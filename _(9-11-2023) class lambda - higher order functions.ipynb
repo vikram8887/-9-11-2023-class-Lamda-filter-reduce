{
 "cells": [
  {
   "cell_type": "markdown",
   "id": "3872bf8e",
   "metadata": {},
   "source": [
    "# Documantation of today class (9-11-2023)"
   ]
  },
  {
   "cell_type": "code",
   "execution_count": 2,
   "id": "595dab41",
   "metadata": {},
   "outputs": [
    {
     "data": {
      "text/plain": [
       "8"
      ]
     },
     "execution_count": 2,
     "metadata": {},
     "output_type": "execute_result"
    }
   ],
   "source": [
    "(lambda x, y : x**y)(2,3)"
   ]
  },
  {
   "cell_type": "markdown",
   "id": "09b871d8",
   "metadata": {},
   "source": [
    "# lambda functions\n",
    "\n",
    "* these func are called as anonymous func\n",
    "* these are defined in a single line\n",
    "* syntax for lambda functions are\n",
    "       \n",
    "      * lambda var/s:<statement/s using these var/s>\n",
    "\n",
    "* these func by default will return a value,no need to write return statement\n",
    "* there is no cap on no of vars one can use to define a lambda func"
   ]
  },
  {
   "cell_type": "markdown",
   "id": "1be3f187",
   "metadata": {},
   "source": [
    "### explanation"
   ]
  },
  {
   "cell_type": "markdown",
   "id": "53b0b55e",
   "metadata": {},
   "source": [
    "#### * varname represents an object of type <class,'fucntion'>\n",
    "\n",
    "#### * lambda is a keyword which is used for defining Anonymous Function\n",
    "\n",
    "#### * params-list represents list of formal params which are used for storing Values coming from Function calls.\n",
    "\n",
    "\n",
    "#### * Expression reprsents single executable statement which provides logic for Instant Operations. Here PVM executes single executable statement and whose result returns Automatically / Implcitily (no need to return statement)"
   ]
  },
  {
   "cell_type": "code",
   "execution_count": 19,
   "id": "9cc038c9",
   "metadata": {},
   "outputs": [
    {
     "data": {
      "text/plain": [
       "'odd'"
      ]
     },
     "execution_count": 19,
     "metadata": {},
     "output_type": "execute_result"
    }
   ],
   "source": [
    "x = 5\n",
    "'Even' if x%2 == 0 else 'odd'"
   ]
  },
  {
   "cell_type": "code",
   "execution_count": 21,
   "id": "4922bd45",
   "metadata": {},
   "outputs": [
    {
     "data": {
      "text/plain": [
       "([2, 4, 6, 8, 10], [1, 3, 5, 7, 9])"
      ]
     },
     "execution_count": 21,
     "metadata": {},
     "output_type": "execute_result"
    }
   ],
   "source": [
    "(lambda x, y: ([ele for ele in range(x, y+1)if ele%2==0], [ele for ele in range (x, y+1) if ele%2!=0]))(1,10)"
   ]
  },
  {
   "cell_type": "code",
   "execution_count": 1,
   "id": "6d5336b2",
   "metadata": {},
   "outputs": [
    {
     "data": {
      "text/plain": [
       "[0, 2, 4, 6, 8]"
      ]
     },
     "execution_count": 1,
     "metadata": {},
     "output_type": "execute_result"
    }
   ],
   "source": [
    "x = []\n",
    "for ele in range(10):\n",
    "    if ele%2 == 0:\n",
    "        x.append(ele)\n",
    "\n",
    "x"
   ]
  },
  {
   "cell_type": "code",
   "execution_count": 23,
   "id": "0bd75a07",
   "metadata": {},
   "outputs": [
    {
     "data": {
      "text/plain": [
       "[0, 2, 4, 6, 8]"
      ]
     },
     "execution_count": 23,
     "metadata": {},
     "output_type": "execute_result"
    }
   ],
   "source": [
    "[ele for ele in range (10) if ele%2==0]"
   ]
  },
  {
   "cell_type": "code",
   "execution_count": 26,
   "id": "62a880f3",
   "metadata": {},
   "outputs": [],
   "source": [
    "c = lambda x, y : x**y             # here x = 2, y = 3"
   ]
  },
  {
   "cell_type": "code",
   "execution_count": 30,
   "id": "1ee4fde5",
   "metadata": {},
   "outputs": [
    {
     "data": {
      "text/plain": [
       "8"
      ]
     },
     "execution_count": 30,
     "metadata": {},
     "output_type": "execute_result"
    }
   ],
   "source": [
    "c(2,3)"
   ]
  },
  {
   "cell_type": "markdown",
   "id": "a16c78d6",
   "metadata": {},
   "source": [
    "# map"
   ]
  },
  {
   "cell_type": "markdown",
   "id": "804cdfff",
   "metadata": {},
   "source": [
    "* we use sap func to apply our func on each element of an iterator\n",
    "\n",
    "  *syntax of map func:\n",
    " * map(func, iterator)\n",
    "\n",
    "* op of map func is a map object, we need to type cast it to a list or other data type to see the op\n",
    "    "
   ]
  },
  {
   "cell_type": "markdown",
   "id": "a2b7bb42",
   "metadata": {},
   "source": [
    "### * \"FunctionName\" represents either Normal function or anonymous functions.\n",
    "###    * \"Iterable_object\" represents Sequence, List, set and dict types."
   ]
  },
  {
   "cell_type": "code",
   "execution_count": 33,
   "id": "6592d5e0",
   "metadata": {},
   "outputs": [
    {
     "data": {
      "text/plain": [
       "<map at 0x16da2cb6800>"
      ]
     },
     "execution_count": 33,
     "metadata": {},
     "output_type": "execute_result"
    }
   ],
   "source": [
    "z=map(lambda x: x**2, [1,2,3])\n",
    "z"
   ]
  },
  {
   "cell_type": "code",
   "execution_count": 34,
   "id": "cbb8067a",
   "metadata": {},
   "outputs": [
    {
     "data": {
      "text/plain": [
       "[1, 4, 9]"
      ]
     },
     "execution_count": 34,
     "metadata": {},
     "output_type": "execute_result"
    }
   ],
   "source": [
    "list(z)"
   ]
  },
  {
   "cell_type": "code",
   "execution_count": 41,
   "id": "675e2189",
   "metadata": {},
   "outputs": [
    {
     "data": {
      "text/plain": [
       "[97, 98, 99]"
      ]
     },
     "execution_count": 41,
     "metadata": {},
     "output_type": "execute_result"
    }
   ],
   "source": [
    "z =map (ord,'abc')\n",
    "list(z)"
   ]
  },
  {
   "cell_type": "code",
   "execution_count": 38,
   "id": "a1a11a58",
   "metadata": {},
   "outputs": [
    {
     "ename": "ZeroDivisionError",
     "evalue": "division by zero",
     "output_type": "error",
     "traceback": [
      "\u001b[1;31m---------------------------------------------------------------------------\u001b[0m",
      "\u001b[1;31mZeroDivisionError\u001b[0m                         Traceback (most recent call last)",
      "Cell \u001b[1;32mIn[38], line 1\u001b[0m\n\u001b[1;32m----> 1\u001b[0m \u001b[38;5;241m1\u001b[39m\u001b[38;5;241m/\u001b[39m\u001b[38;5;241m0\u001b[39m\n",
      "\u001b[1;31mZeroDivisionError\u001b[0m: division by zero"
     ]
    }
   ],
   "source": [
    "1/0"
   ]
  },
  {
   "cell_type": "code",
   "execution_count": 39,
   "id": "ada816bc",
   "metadata": {},
   "outputs": [
    {
     "data": {
      "text/plain": [
       "<map at 0x16da2b1a7d0>"
      ]
     },
     "execution_count": 39,
     "metadata": {},
     "output_type": "execute_result"
    }
   ],
   "source": [
    "z = map( lambda x: x/0,[1,2,3])\n",
    "z"
   ]
  },
  {
   "cell_type": "code",
   "execution_count": 47,
   "id": "1360aaf5",
   "metadata": {},
   "outputs": [
    {
     "data": {
      "text/plain": [
       "[11, 22, 33]"
      ]
     },
     "execution_count": 47,
     "metadata": {},
     "output_type": "execute_result"
    }
   ],
   "source": [
    "list(map(lambda x, y: x+y, [1,2, 3], [10, 20, 30]))"
   ]
  },
  {
   "cell_type": "code",
   "execution_count": 48,
   "id": "1d3fc85a",
   "metadata": {},
   "outputs": [
    {
     "data": {
      "text/plain": [
       "[1, 4, 27]"
      ]
     },
     "execution_count": 48,
     "metadata": {},
     "output_type": "execute_result"
    }
   ],
   "source": [
    "list(map(lambda x:x**x, [1,2,3]))"
   ]
  },
  {
   "cell_type": "code",
   "execution_count": 46,
   "id": "0856e508",
   "metadata": {},
   "outputs": [
    {
     "data": {
      "text/plain": [
       "[16, 32]"
      ]
     },
     "execution_count": 46,
     "metadata": {},
     "output_type": "execute_result"
    }
   ],
   "source": [
    "list(map(lambda x, y: x**y, [2,2], [4,5]))"
   ]
  },
  {
   "cell_type": "markdown",
   "id": "210c737e",
   "metadata": {},
   "source": [
    "## filter"
   ]
  },
  {
   "cell_type": "markdown",
   "id": "6ca2fb87",
   "metadata": {},
   "source": [
    "### filter() is used for \"Filtering out some elements from list of elements by applying to function\".\n",
    "\n",
    "### Syntax:-\n",
    "\n",
    "#### varname=filter(FunctionName, Iterable_object)"
   ]
  },
  {
   "cell_type": "markdown",
   "id": "136f0556",
   "metadata": {},
   "source": [
    "#### * here 'varname' is an object of type <class,'filter'> and we can convert into any iteratable object by using type casting functions.\n",
    "#### * \"FunctionName\" represents either Normal function or anonymous functions.\n",
    "#### * \"Iterable_object\" represents Sequence, List, set and dict types."
   ]
  },
  {
   "cell_type": "markdown",
   "id": "d732c62b",
   "metadata": {},
   "source": [
    "# reduce()\n",
    "\n",
    "\n",
    "#### reduce() is used for obtaining a single element / result from given iterable object by applying to a function."
   ]
  },
  {
   "cell_type": "markdown",
   "id": "606a1352",
   "metadata": {},
   "source": [
    "### Syntax:- varname=reduce(function-name,iterable-object)\n",
    "\n",
    "####     * here varname is an object of int, float,bool,complex,str only\n",
    "####     * The reduce() belongs to a pre-defined module called\" functools\"."
   ]
  },
  {
   "cell_type": "markdown",
   "id": "92f97665",
   "metadata": {},
   "source": [
    "### Internal Flow of reduce()\n",
    "\n",
    "#### step-1:- Initially, reduce() selects First Two values of Iterable object and place them in First var and Second var .\n",
    "#### step-2:- The function-name(lambda or normal function) utilizes the values of First var and Second var and applied to the specified logic and obtains the result.\n",
    "#### Step-3:- reduce () places the result of function-name in First variable and reduce() selects the succeeding element of Iterable object and places in second variable.\n",
    "#### Step-4: Repeat Step-2 and Step-3 until all elements completed in Iterable object and returns the result of First Variable."
   ]
  },
  {
   "cell_type": "code",
   "execution_count": 12,
   "id": "a3a8965e",
   "metadata": {},
   "outputs": [
    {
     "data": {
      "text/plain": [
       "48"
      ]
     },
     "execution_count": 12,
     "metadata": {},
     "output_type": "execute_result"
    }
   ],
   "source": [
    "import functools\n",
    "res = functools.reduce(lambda x, y : x+y, [3,5,9,1,10,20])\n",
    "res"
   ]
  },
  {
   "cell_type": "code",
   "execution_count": 11,
   "id": "6d503992",
   "metadata": {},
   "outputs": [
    {
     "data": {
      "text/plain": [
       "'v i c k e y   v a r u n'"
      ]
     },
     "execution_count": 11,
     "metadata": {},
     "output_type": "execute_result"
    }
   ],
   "source": [
    "x = functools.reduce(lambda x, y : x+' '+y, 'vickey varun')\n",
    "x"
   ]
  },
  {
   "cell_type": "code",
   "execution_count": 50,
   "id": "267caef1",
   "metadata": {},
   "outputs": [
    {
     "data": {
      "text/plain": [
       "[2, 4]"
      ]
     },
     "execution_count": 50,
     "metadata": {},
     "output_type": "execute_result"
    }
   ],
   "source": [
    "list(filter(lambda x: True if x%2 == 0 else False, [1,2,3,4,5]))       # which is divisal by 2"
   ]
  },
  {
   "cell_type": "code",
   "execution_count": 53,
   "id": "c6468cb9",
   "metadata": {},
   "outputs": [
    {
     "data": {
      "text/plain": [
       "[1, 3, 5]"
      ]
     },
     "execution_count": 53,
     "metadata": {},
     "output_type": "execute_result"
    }
   ],
   "source": [
    "list(filter(lambda x: True if x%2!= 0 else False, [1,2,3,4,5]))        # here will show which is not divisible by 2"
   ]
  },
  {
   "cell_type": "code",
   "execution_count": 56,
   "id": "f5f4259c",
   "metadata": {},
   "outputs": [
    {
     "data": {
      "text/plain": [
       "['r', 'a', 'n']"
      ]
     },
     "execution_count": 56,
     "metadata": {},
     "output_type": "execute_result"
    }
   ],
   "source": [
    "list(filter(lambda x: True if x in 'varun' else False, 'pranI'))"
   ]
  },
  {
   "cell_type": "code",
   "execution_count": 58,
   "id": "d0bb9202",
   "metadata": {},
   "outputs": [
    {
     "data": {
      "text/plain": [
       "['l', 'a', 'b', '2', '3']"
      ]
     },
     "execution_count": 58,
     "metadata": {},
     "output_type": "execute_result"
    }
   ],
   "source": [
    "list(filter(lambda x: True if x.isalnum() else False, 'lab$23'))           # here not came special character'$'"
   ]
  },
  {
   "cell_type": "code",
   "execution_count": 59,
   "id": "7ab9d164",
   "metadata": {},
   "outputs": [
    {
     "data": {
      "text/plain": [
       "['$']"
      ]
     },
     "execution_count": 59,
     "metadata": {},
     "output_type": "execute_result"
    }
   ],
   "source": [
    "list(filter(lambda x: True if x.isalnum() is False else False, 'lab$23'))        # here only special character has came output"
   ]
  },
  {
   "cell_type": "code",
   "execution_count": null,
   "id": "979e25d0",
   "metadata": {},
   "outputs": [],
   "source": [
    "x = functools.reduce(lambda x, y : x+' '+y, 'Siva Sankar')\n",
    "x"
   ]
  }
 ],
 "metadata": {
  "kernelspec": {
   "display_name": "Python 3 (ipykernel)",
   "language": "python",
   "name": "python3"
  },
  "language_info": {
   "codemirror_mode": {
    "name": "ipython",
    "version": 3
   },
   "file_extension": ".py",
   "mimetype": "text/x-python",
   "name": "python",
   "nbconvert_exporter": "python",
   "pygments_lexer": "ipython3",
   "version": "3.11.5"
  }
 },
 "nbformat": 4,
 "nbformat_minor": 5
}
